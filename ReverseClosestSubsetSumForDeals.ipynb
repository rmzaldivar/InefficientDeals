{
 "cells": [
  {
   "cell_type": "markdown",
   "metadata": {},
   "source": []
  },
  {
   "cell_type": "markdown",
   "metadata": {},
   "source": [
    "This notebook will try to apply the closest subset sum problem to a set of prices for products such that achieving some sum gives a discount (e.g buying 20$ worth of product in order to get a 5$ discount). We'll take the set of prices for items and try to optimize them such that achieving the target sum is difficult without overshooting it in order to optimize profit for the seller. The problem is NP hard and finding the closest subset sum is O(nlogn) for a set of prices of size n so iterating on the prices is costly. Parallel programming will be used to make this effort more feasible. A dynamic programming approach will be taken such that the methods from \"Lock-free parallel dynamic programming\" by Stivala et al can be used."
   ]
  },
  {
   "cell_type": "code",
   "execution_count": null,
   "metadata": {},
   "outputs": [],
   "source": []
  }
 ],
 "metadata": {
  "language_info": {
   "name": "python"
  },
  "orig_nbformat": 4
 },
 "nbformat": 4,
 "nbformat_minor": 2
}
